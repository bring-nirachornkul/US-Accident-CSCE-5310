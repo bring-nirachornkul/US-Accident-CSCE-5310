{
 "cells": [
  {
   "cell_type": "markdown",
   "id": "ef9a5ea1",
   "metadata": {},
   "source": [
    "# Library"
   ]
  },
  {
   "cell_type": "code",
   "execution_count": 89,
   "id": "a5d34728",
   "metadata": {
    "scrolled": false
   },
   "outputs": [],
   "source": [
    "#These Library are imported from GATSBY WU\n",
    "import pandas as pd\n",
    "pd.set_option('display.float_format', lambda x: '%.5f' % x)\n",
    "pd.options.display.max_columns = 100\n",
    "pd.options.mode.chained_assignment = None\n",
    "import joblib\n",
    "import numpy as np\n",
    "from matplotlib import pyplot as plt\n",
    "%matplotlib inline\n",
    "import seaborn as sns\n",
    "\n",
    "import re\n",
    "import gc\n",
    "import calendar\n",
    "\n",
    "\n",
    "import plotly.express as px\n",
    "import plotly.graph_objects as go\n",
    "from plotly.subplots import make_subplots\n",
    "\n",
    "from sklearn.experimental import enable_halving_search_cv\n",
    "from sklearn.model_selection import HalvingGridSearchCV\n",
    "\n",
    "\n",
    "from sklearn.preprocessing import OneHotEncoder\n",
    "from sklearn.preprocessing import LabelBinarizer\n",
    "from sklearn.preprocessing import MinMaxScaler\n",
    "from sklearn.compose import make_column_transformer\n",
    "\n",
    "from sklearn.model_selection import train_test_split\n",
    "\n",
    "from sklearn.metrics import accuracy_score\n",
    "from sklearn.metrics import recall_score\n",
    "from sklearn.metrics import f1_score\n",
    "from sklearn.metrics import precision_score\n",
    "from sklearn.metrics import roc_auc_score\n",
    "from sklearn.exceptions import ConvergenceWarning\n",
    "from sklearn.model_selection import train_test_split\n",
    "from sklearn.model_selection import GridSearchCV\n",
    "from sklearn.model_selection import cross_val_score\n",
    "from sklearn.metrics import make_scorer\n",
    "import matplotlib.ticker as ticker\n",
    "\n",
    "from sklearn.linear_model import  RidgeClassifier\n",
    "from sklearn.naive_bayes import GaussianNB\n",
    "from sklearn.neighbors import KNeighborsClassifier\n",
    "from sklearn.tree import DecisionTreeClassifier\n",
    "from sklearn.ensemble import RandomForestClassifier\n",
    "\n",
    "import folium # for plotting latitudes and longitudes in map\n",
    "from folium import plugins\n",
    "from folium.plugins import HeatMap"
   ]
  },
  {
   "cell_type": "markdown",
   "id": "17763f1b",
   "metadata": {},
   "source": [
    "# Import datasets"
   ]
  },
  {
   "cell_type": "code",
   "execution_count": 11,
   "id": "73f0c59c",
   "metadata": {
    "scrolled": false
   },
   "outputs": [
    {
     "data": {
      "text/html": [
       "<div>\n",
       "<style scoped>\n",
       "    .dataframe tbody tr th:only-of-type {\n",
       "        vertical-align: middle;\n",
       "    }\n",
       "\n",
       "    .dataframe tbody tr th {\n",
       "        vertical-align: top;\n",
       "    }\n",
       "\n",
       "    .dataframe thead th {\n",
       "        text-align: right;\n",
       "    }\n",
       "</style>\n",
       "<table border=\"1\" class=\"dataframe\">\n",
       "  <thead>\n",
       "    <tr style=\"text-align: right;\">\n",
       "      <th></th>\n",
       "      <th>ID</th>\n",
       "      <th>Severity</th>\n",
       "      <th>Start_Time</th>\n",
       "      <th>End_Time</th>\n",
       "      <th>Start_Lat</th>\n",
       "      <th>Start_Lng</th>\n",
       "      <th>End_Lat</th>\n",
       "      <th>End_Lng</th>\n",
       "      <th>Distance(mi)</th>\n",
       "      <th>Description</th>\n",
       "      <th>Number</th>\n",
       "      <th>Street</th>\n",
       "      <th>Side</th>\n",
       "      <th>City</th>\n",
       "      <th>County</th>\n",
       "      <th>State</th>\n",
       "      <th>Zipcode</th>\n",
       "      <th>Country</th>\n",
       "      <th>Timezone</th>\n",
       "      <th>Airport_Code</th>\n",
       "      <th>Weather_Timestamp</th>\n",
       "      <th>Temperature(F)</th>\n",
       "      <th>Wind_Chill(F)</th>\n",
       "      <th>Humidity(%)</th>\n",
       "      <th>Pressure(in)</th>\n",
       "      <th>Visibility(mi)</th>\n",
       "      <th>Wind_Direction</th>\n",
       "      <th>Wind_Speed(mph)</th>\n",
       "      <th>Precipitation(in)</th>\n",
       "      <th>Weather_Condition</th>\n",
       "      <th>Amenity</th>\n",
       "      <th>Bump</th>\n",
       "      <th>Crossing</th>\n",
       "      <th>Give_Way</th>\n",
       "      <th>Junction</th>\n",
       "      <th>No_Exit</th>\n",
       "      <th>Railway</th>\n",
       "      <th>Roundabout</th>\n",
       "      <th>Station</th>\n",
       "      <th>Stop</th>\n",
       "      <th>Traffic_Calming</th>\n",
       "      <th>Traffic_Signal</th>\n",
       "      <th>Turning_Loop</th>\n",
       "      <th>Sunrise_Sunset</th>\n",
       "      <th>Civil_Twilight</th>\n",
       "      <th>Nautical_Twilight</th>\n",
       "      <th>Astronomical_Twilight</th>\n",
       "    </tr>\n",
       "  </thead>\n",
       "  <tbody>\n",
       "    <tr>\n",
       "      <th>0</th>\n",
       "      <td>A-1</td>\n",
       "      <td>3</td>\n",
       "      <td>2016-02-08 00:37:08</td>\n",
       "      <td>2016-02-08 06:37:08</td>\n",
       "      <td>40.10891</td>\n",
       "      <td>-83.09286</td>\n",
       "      <td>40.11206</td>\n",
       "      <td>-83.03187</td>\n",
       "      <td>3.23000</td>\n",
       "      <td>Between Sawmill Rd/Exit 20 and OH-315/Olentang...</td>\n",
       "      <td>NaN</td>\n",
       "      <td>Outerbelt E</td>\n",
       "      <td>R</td>\n",
       "      <td>Dublin</td>\n",
       "      <td>Franklin</td>\n",
       "      <td>OH</td>\n",
       "      <td>43017</td>\n",
       "      <td>US</td>\n",
       "      <td>US/Eastern</td>\n",
       "      <td>KOSU</td>\n",
       "      <td>2016-02-08 00:53:00</td>\n",
       "      <td>42.10000</td>\n",
       "      <td>36.10000</td>\n",
       "      <td>58.00000</td>\n",
       "      <td>29.76000</td>\n",
       "      <td>10.00000</td>\n",
       "      <td>SW</td>\n",
       "      <td>10.40000</td>\n",
       "      <td>0.00000</td>\n",
       "      <td>Light Rain</td>\n",
       "      <td>False</td>\n",
       "      <td>False</td>\n",
       "      <td>False</td>\n",
       "      <td>False</td>\n",
       "      <td>False</td>\n",
       "      <td>False</td>\n",
       "      <td>False</td>\n",
       "      <td>False</td>\n",
       "      <td>False</td>\n",
       "      <td>False</td>\n",
       "      <td>False</td>\n",
       "      <td>False</td>\n",
       "      <td>False</td>\n",
       "      <td>Night</td>\n",
       "      <td>Night</td>\n",
       "      <td>Night</td>\n",
       "      <td>Night</td>\n",
       "    </tr>\n",
       "    <tr>\n",
       "      <th>1</th>\n",
       "      <td>A-2</td>\n",
       "      <td>2</td>\n",
       "      <td>2016-02-08 05:56:20</td>\n",
       "      <td>2016-02-08 11:56:20</td>\n",
       "      <td>39.86542</td>\n",
       "      <td>-84.06280</td>\n",
       "      <td>39.86501</td>\n",
       "      <td>-84.04873</td>\n",
       "      <td>0.74700</td>\n",
       "      <td>At OH-4/OH-235/Exit 41 - Accident.</td>\n",
       "      <td>NaN</td>\n",
       "      <td>I-70 E</td>\n",
       "      <td>R</td>\n",
       "      <td>Dayton</td>\n",
       "      <td>Montgomery</td>\n",
       "      <td>OH</td>\n",
       "      <td>45424</td>\n",
       "      <td>US</td>\n",
       "      <td>US/Eastern</td>\n",
       "      <td>KFFO</td>\n",
       "      <td>2016-02-08 05:58:00</td>\n",
       "      <td>36.90000</td>\n",
       "      <td>NaN</td>\n",
       "      <td>91.00000</td>\n",
       "      <td>29.68000</td>\n",
       "      <td>10.00000</td>\n",
       "      <td>Calm</td>\n",
       "      <td>NaN</td>\n",
       "      <td>0.02000</td>\n",
       "      <td>Light Rain</td>\n",
       "      <td>False</td>\n",
       "      <td>False</td>\n",
       "      <td>False</td>\n",
       "      <td>False</td>\n",
       "      <td>False</td>\n",
       "      <td>False</td>\n",
       "      <td>False</td>\n",
       "      <td>False</td>\n",
       "      <td>False</td>\n",
       "      <td>False</td>\n",
       "      <td>False</td>\n",
       "      <td>False</td>\n",
       "      <td>False</td>\n",
       "      <td>Night</td>\n",
       "      <td>Night</td>\n",
       "      <td>Night</td>\n",
       "      <td>Night</td>\n",
       "    </tr>\n",
       "    <tr>\n",
       "      <th>2</th>\n",
       "      <td>A-3</td>\n",
       "      <td>2</td>\n",
       "      <td>2016-02-08 06:15:39</td>\n",
       "      <td>2016-02-08 12:15:39</td>\n",
       "      <td>39.10266</td>\n",
       "      <td>-84.52468</td>\n",
       "      <td>39.10209</td>\n",
       "      <td>-84.52396</td>\n",
       "      <td>0.05500</td>\n",
       "      <td>At I-71/US-50/Exit 1 - Accident.</td>\n",
       "      <td>NaN</td>\n",
       "      <td>I-75 S</td>\n",
       "      <td>R</td>\n",
       "      <td>Cincinnati</td>\n",
       "      <td>Hamilton</td>\n",
       "      <td>OH</td>\n",
       "      <td>45203</td>\n",
       "      <td>US</td>\n",
       "      <td>US/Eastern</td>\n",
       "      <td>KLUK</td>\n",
       "      <td>2016-02-08 05:53:00</td>\n",
       "      <td>36.00000</td>\n",
       "      <td>NaN</td>\n",
       "      <td>97.00000</td>\n",
       "      <td>29.70000</td>\n",
       "      <td>10.00000</td>\n",
       "      <td>Calm</td>\n",
       "      <td>NaN</td>\n",
       "      <td>0.02000</td>\n",
       "      <td>Overcast</td>\n",
       "      <td>False</td>\n",
       "      <td>False</td>\n",
       "      <td>False</td>\n",
       "      <td>False</td>\n",
       "      <td>True</td>\n",
       "      <td>False</td>\n",
       "      <td>False</td>\n",
       "      <td>False</td>\n",
       "      <td>False</td>\n",
       "      <td>False</td>\n",
       "      <td>False</td>\n",
       "      <td>False</td>\n",
       "      <td>False</td>\n",
       "      <td>Night</td>\n",
       "      <td>Night</td>\n",
       "      <td>Night</td>\n",
       "      <td>Day</td>\n",
       "    </tr>\n",
       "    <tr>\n",
       "      <th>3</th>\n",
       "      <td>A-4</td>\n",
       "      <td>2</td>\n",
       "      <td>2016-02-08 06:51:45</td>\n",
       "      <td>2016-02-08 12:51:45</td>\n",
       "      <td>41.06213</td>\n",
       "      <td>-81.53784</td>\n",
       "      <td>41.06217</td>\n",
       "      <td>-81.53547</td>\n",
       "      <td>0.12300</td>\n",
       "      <td>At Dart Ave/Exit 21 - Accident.</td>\n",
       "      <td>NaN</td>\n",
       "      <td>I-77 N</td>\n",
       "      <td>R</td>\n",
       "      <td>Akron</td>\n",
       "      <td>Summit</td>\n",
       "      <td>OH</td>\n",
       "      <td>44311</td>\n",
       "      <td>US</td>\n",
       "      <td>US/Eastern</td>\n",
       "      <td>KAKR</td>\n",
       "      <td>2016-02-08 06:54:00</td>\n",
       "      <td>39.00000</td>\n",
       "      <td>NaN</td>\n",
       "      <td>55.00000</td>\n",
       "      <td>29.65000</td>\n",
       "      <td>10.00000</td>\n",
       "      <td>Calm</td>\n",
       "      <td>NaN</td>\n",
       "      <td>NaN</td>\n",
       "      <td>Overcast</td>\n",
       "      <td>False</td>\n",
       "      <td>False</td>\n",
       "      <td>False</td>\n",
       "      <td>False</td>\n",
       "      <td>False</td>\n",
       "      <td>False</td>\n",
       "      <td>False</td>\n",
       "      <td>False</td>\n",
       "      <td>False</td>\n",
       "      <td>False</td>\n",
       "      <td>False</td>\n",
       "      <td>False</td>\n",
       "      <td>False</td>\n",
       "      <td>Night</td>\n",
       "      <td>Night</td>\n",
       "      <td>Day</td>\n",
       "      <td>Day</td>\n",
       "    </tr>\n",
       "    <tr>\n",
       "      <th>4</th>\n",
       "      <td>A-5</td>\n",
       "      <td>3</td>\n",
       "      <td>2016-02-08 07:53:43</td>\n",
       "      <td>2016-02-08 13:53:43</td>\n",
       "      <td>39.17239</td>\n",
       "      <td>-84.49279</td>\n",
       "      <td>39.17048</td>\n",
       "      <td>-84.50180</td>\n",
       "      <td>0.50000</td>\n",
       "      <td>At Mitchell Ave/Exit 6 - Accident.</td>\n",
       "      <td>NaN</td>\n",
       "      <td>I-75 S</td>\n",
       "      <td>R</td>\n",
       "      <td>Cincinnati</td>\n",
       "      <td>Hamilton</td>\n",
       "      <td>OH</td>\n",
       "      <td>45217</td>\n",
       "      <td>US</td>\n",
       "      <td>US/Eastern</td>\n",
       "      <td>KLUK</td>\n",
       "      <td>2016-02-08 07:53:00</td>\n",
       "      <td>37.00000</td>\n",
       "      <td>29.80000</td>\n",
       "      <td>93.00000</td>\n",
       "      <td>29.69000</td>\n",
       "      <td>10.00000</td>\n",
       "      <td>WSW</td>\n",
       "      <td>10.40000</td>\n",
       "      <td>0.01000</td>\n",
       "      <td>Light Rain</td>\n",
       "      <td>False</td>\n",
       "      <td>False</td>\n",
       "      <td>False</td>\n",
       "      <td>False</td>\n",
       "      <td>False</td>\n",
       "      <td>False</td>\n",
       "      <td>False</td>\n",
       "      <td>False</td>\n",
       "      <td>False</td>\n",
       "      <td>False</td>\n",
       "      <td>False</td>\n",
       "      <td>False</td>\n",
       "      <td>False</td>\n",
       "      <td>Day</td>\n",
       "      <td>Day</td>\n",
       "      <td>Day</td>\n",
       "      <td>Day</td>\n",
       "    </tr>\n",
       "  </tbody>\n",
       "</table>\n",
       "</div>"
      ],
      "text/plain": [
       "    ID  Severity           Start_Time             End_Time  Start_Lat  \\\n",
       "0  A-1         3  2016-02-08 00:37:08  2016-02-08 06:37:08   40.10891   \n",
       "1  A-2         2  2016-02-08 05:56:20  2016-02-08 11:56:20   39.86542   \n",
       "2  A-3         2  2016-02-08 06:15:39  2016-02-08 12:15:39   39.10266   \n",
       "3  A-4         2  2016-02-08 06:51:45  2016-02-08 12:51:45   41.06213   \n",
       "4  A-5         3  2016-02-08 07:53:43  2016-02-08 13:53:43   39.17239   \n",
       "\n",
       "   Start_Lng  End_Lat   End_Lng  Distance(mi)  \\\n",
       "0  -83.09286 40.11206 -83.03187       3.23000   \n",
       "1  -84.06280 39.86501 -84.04873       0.74700   \n",
       "2  -84.52468 39.10209 -84.52396       0.05500   \n",
       "3  -81.53784 41.06217 -81.53547       0.12300   \n",
       "4  -84.49279 39.17048 -84.50180       0.50000   \n",
       "\n",
       "                                         Description  Number       Street  \\\n",
       "0  Between Sawmill Rd/Exit 20 and OH-315/Olentang...     NaN  Outerbelt E   \n",
       "1                 At OH-4/OH-235/Exit 41 - Accident.     NaN       I-70 E   \n",
       "2                   At I-71/US-50/Exit 1 - Accident.     NaN       I-75 S   \n",
       "3                    At Dart Ave/Exit 21 - Accident.     NaN       I-77 N   \n",
       "4                 At Mitchell Ave/Exit 6 - Accident.     NaN       I-75 S   \n",
       "\n",
       "  Side        City      County State Zipcode Country    Timezone Airport_Code  \\\n",
       "0    R      Dublin    Franklin    OH   43017      US  US/Eastern         KOSU   \n",
       "1    R      Dayton  Montgomery    OH   45424      US  US/Eastern         KFFO   \n",
       "2    R  Cincinnati    Hamilton    OH   45203      US  US/Eastern         KLUK   \n",
       "3    R       Akron      Summit    OH   44311      US  US/Eastern         KAKR   \n",
       "4    R  Cincinnati    Hamilton    OH   45217      US  US/Eastern         KLUK   \n",
       "\n",
       "     Weather_Timestamp  Temperature(F)  Wind_Chill(F)  Humidity(%)  \\\n",
       "0  2016-02-08 00:53:00        42.10000       36.10000     58.00000   \n",
       "1  2016-02-08 05:58:00        36.90000            NaN     91.00000   \n",
       "2  2016-02-08 05:53:00        36.00000            NaN     97.00000   \n",
       "3  2016-02-08 06:54:00        39.00000            NaN     55.00000   \n",
       "4  2016-02-08 07:53:00        37.00000       29.80000     93.00000   \n",
       "\n",
       "   Pressure(in)  Visibility(mi) Wind_Direction  Wind_Speed(mph)  \\\n",
       "0      29.76000        10.00000             SW         10.40000   \n",
       "1      29.68000        10.00000           Calm              NaN   \n",
       "2      29.70000        10.00000           Calm              NaN   \n",
       "3      29.65000        10.00000           Calm              NaN   \n",
       "4      29.69000        10.00000            WSW         10.40000   \n",
       "\n",
       "   Precipitation(in) Weather_Condition  Amenity   Bump  Crossing  Give_Way  \\\n",
       "0            0.00000        Light Rain    False  False     False     False   \n",
       "1            0.02000        Light Rain    False  False     False     False   \n",
       "2            0.02000          Overcast    False  False     False     False   \n",
       "3                NaN          Overcast    False  False     False     False   \n",
       "4            0.01000        Light Rain    False  False     False     False   \n",
       "\n",
       "   Junction  No_Exit  Railway  Roundabout  Station   Stop  Traffic_Calming  \\\n",
       "0     False    False    False       False    False  False            False   \n",
       "1     False    False    False       False    False  False            False   \n",
       "2      True    False    False       False    False  False            False   \n",
       "3     False    False    False       False    False  False            False   \n",
       "4     False    False    False       False    False  False            False   \n",
       "\n",
       "   Traffic_Signal  Turning_Loop Sunrise_Sunset Civil_Twilight  \\\n",
       "0           False         False          Night          Night   \n",
       "1           False         False          Night          Night   \n",
       "2           False         False          Night          Night   \n",
       "3           False         False          Night          Night   \n",
       "4           False         False            Day            Day   \n",
       "\n",
       "  Nautical_Twilight Astronomical_Twilight  \n",
       "0             Night                 Night  \n",
       "1             Night                 Night  \n",
       "2             Night                   Day  \n",
       "3               Day                   Day  \n",
       "4               Day                   Day  "
      ]
     },
     "execution_count": 11,
     "metadata": {},
     "output_type": "execute_result"
    }
   ],
   "source": [
    "us_data = pd.read_csv('Datasets/US_Accidents_Dec21_updated.csv')\n",
    "us_data.head()"
   ]
  },
  {
   "cell_type": "code",
   "execution_count": 12,
   "id": "2b1b1534",
   "metadata": {
    "scrolled": false
   },
   "outputs": [
    {
     "name": "stdout",
     "output_type": "stream",
     "text": [
      "The Dataset contains: 2845342 rows and 47 columns.\n"
     ]
    }
   ],
   "source": [
    "print('The Dataset contains: {} rows and {} columns.'.format(us_data.shape[0],us_data.shape[1]))"
   ]
  },
  {
   "cell_type": "code",
   "execution_count": 13,
   "id": "1b094e5b",
   "metadata": {
    "scrolled": false
   },
   "outputs": [
    {
     "name": "stdout",
     "output_type": "stream",
     "text": [
      "<class 'pandas.core.frame.DataFrame'>\n",
      "RangeIndex: 2845342 entries, 0 to 2845341\n",
      "Data columns (total 47 columns):\n",
      " #   Column                 Dtype  \n",
      "---  ------                 -----  \n",
      " 0   ID                     object \n",
      " 1   Severity               int64  \n",
      " 2   Start_Time             object \n",
      " 3   End_Time               object \n",
      " 4   Start_Lat              float64\n",
      " 5   Start_Lng              float64\n",
      " 6   End_Lat                float64\n",
      " 7   End_Lng                float64\n",
      " 8   Distance(mi)           float64\n",
      " 9   Description            object \n",
      " 10  Number                 float64\n",
      " 11  Street                 object \n",
      " 12  Side                   object \n",
      " 13  City                   object \n",
      " 14  County                 object \n",
      " 15  State                  object \n",
      " 16  Zipcode                object \n",
      " 17  Country                object \n",
      " 18  Timezone               object \n",
      " 19  Airport_Code           object \n",
      " 20  Weather_Timestamp      object \n",
      " 21  Temperature(F)         float64\n",
      " 22  Wind_Chill(F)          float64\n",
      " 23  Humidity(%)            float64\n",
      " 24  Pressure(in)           float64\n",
      " 25  Visibility(mi)         float64\n",
      " 26  Wind_Direction         object \n",
      " 27  Wind_Speed(mph)        float64\n",
      " 28  Precipitation(in)      float64\n",
      " 29  Weather_Condition      object \n",
      " 30  Amenity                bool   \n",
      " 31  Bump                   bool   \n",
      " 32  Crossing               bool   \n",
      " 33  Give_Way               bool   \n",
      " 34  Junction               bool   \n",
      " 35  No_Exit                bool   \n",
      " 36  Railway                bool   \n",
      " 37  Roundabout             bool   \n",
      " 38  Station                bool   \n",
      " 39  Stop                   bool   \n",
      " 40  Traffic_Calming        bool   \n",
      " 41  Traffic_Signal         bool   \n",
      " 42  Turning_Loop           bool   \n",
      " 43  Sunrise_Sunset         object \n",
      " 44  Civil_Twilight         object \n",
      " 45  Nautical_Twilight      object \n",
      " 46  Astronomical_Twilight  object \n",
      "dtypes: bool(13), float64(13), int64(1), object(20)\n",
      "memory usage: 773.4+ MB\n"
     ]
    }
   ],
   "source": [
    "us_data.info()"
   ]
  },
  {
   "cell_type": "code",
   "execution_count": 14,
   "id": "b0f76409",
   "metadata": {
    "scrolled": false
   },
   "outputs": [
    {
     "data": {
      "text/html": [
       "<div>\n",
       "<style scoped>\n",
       "    .dataframe tbody tr th:only-of-type {\n",
       "        vertical-align: middle;\n",
       "    }\n",
       "\n",
       "    .dataframe tbody tr th {\n",
       "        vertical-align: top;\n",
       "    }\n",
       "\n",
       "    .dataframe thead th {\n",
       "        text-align: right;\n",
       "    }\n",
       "</style>\n",
       "<table border=\"1\" class=\"dataframe\">\n",
       "  <thead>\n",
       "    <tr style=\"text-align: right;\">\n",
       "      <th></th>\n",
       "      <th>Severity</th>\n",
       "      <th>Start_Lat</th>\n",
       "      <th>Start_Lng</th>\n",
       "      <th>End_Lat</th>\n",
       "      <th>End_Lng</th>\n",
       "      <th>Distance(mi)</th>\n",
       "      <th>Number</th>\n",
       "      <th>Temperature(F)</th>\n",
       "      <th>Wind_Chill(F)</th>\n",
       "      <th>Humidity(%)</th>\n",
       "      <th>Pressure(in)</th>\n",
       "      <th>Visibility(mi)</th>\n",
       "      <th>Wind_Speed(mph)</th>\n",
       "      <th>Precipitation(in)</th>\n",
       "    </tr>\n",
       "  </thead>\n",
       "  <tbody>\n",
       "    <tr>\n",
       "      <th>count</th>\n",
       "      <td>2845342.00000</td>\n",
       "      <td>2845342.00000</td>\n",
       "      <td>2845342.00000</td>\n",
       "      <td>2845342.00000</td>\n",
       "      <td>2845342.00000</td>\n",
       "      <td>2845342.00000</td>\n",
       "      <td>1101431.00000</td>\n",
       "      <td>2776068.00000</td>\n",
       "      <td>2375699.00000</td>\n",
       "      <td>2772250.00000</td>\n",
       "      <td>2786142.00000</td>\n",
       "      <td>2774796.00000</td>\n",
       "      <td>2687398.00000</td>\n",
       "      <td>2295884.00000</td>\n",
       "    </tr>\n",
       "    <tr>\n",
       "      <th>mean</th>\n",
       "      <td>2.13757</td>\n",
       "      <td>36.24520</td>\n",
       "      <td>-97.11463</td>\n",
       "      <td>36.24532</td>\n",
       "      <td>-97.11439</td>\n",
       "      <td>0.70268</td>\n",
       "      <td>8089.40811</td>\n",
       "      <td>61.79356</td>\n",
       "      <td>59.65823</td>\n",
       "      <td>64.36545</td>\n",
       "      <td>29.47234</td>\n",
       "      <td>9.09939</td>\n",
       "      <td>7.39504</td>\n",
       "      <td>0.00702</td>\n",
       "    </tr>\n",
       "    <tr>\n",
       "      <th>std</th>\n",
       "      <td>0.47872</td>\n",
       "      <td>5.36380</td>\n",
       "      <td>18.31782</td>\n",
       "      <td>5.36387</td>\n",
       "      <td>18.31763</td>\n",
       "      <td>1.56036</td>\n",
       "      <td>18360.09399</td>\n",
       "      <td>18.62263</td>\n",
       "      <td>21.16097</td>\n",
       "      <td>22.87457</td>\n",
       "      <td>1.04529</td>\n",
       "      <td>2.71755</td>\n",
       "      <td>5.52745</td>\n",
       "      <td>0.09349</td>\n",
       "    </tr>\n",
       "    <tr>\n",
       "      <th>min</th>\n",
       "      <td>1.00000</td>\n",
       "      <td>24.56603</td>\n",
       "      <td>-124.54807</td>\n",
       "      <td>24.56601</td>\n",
       "      <td>-124.54575</td>\n",
       "      <td>0.00000</td>\n",
       "      <td>0.00000</td>\n",
       "      <td>-89.00000</td>\n",
       "      <td>-89.00000</td>\n",
       "      <td>1.00000</td>\n",
       "      <td>0.00000</td>\n",
       "      <td>0.00000</td>\n",
       "      <td>0.00000</td>\n",
       "      <td>0.00000</td>\n",
       "    </tr>\n",
       "    <tr>\n",
       "      <th>25%</th>\n",
       "      <td>2.00000</td>\n",
       "      <td>33.44517</td>\n",
       "      <td>-118.03311</td>\n",
       "      <td>33.44628</td>\n",
       "      <td>-118.03333</td>\n",
       "      <td>0.05200</td>\n",
       "      <td>1270.00000</td>\n",
       "      <td>50.00000</td>\n",
       "      <td>46.00000</td>\n",
       "      <td>48.00000</td>\n",
       "      <td>29.31000</td>\n",
       "      <td>10.00000</td>\n",
       "      <td>3.50000</td>\n",
       "      <td>0.00000</td>\n",
       "    </tr>\n",
       "    <tr>\n",
       "      <th>50%</th>\n",
       "      <td>2.00000</td>\n",
       "      <td>36.09861</td>\n",
       "      <td>-92.41808</td>\n",
       "      <td>36.09799</td>\n",
       "      <td>-92.41772</td>\n",
       "      <td>0.24400</td>\n",
       "      <td>4007.00000</td>\n",
       "      <td>64.00000</td>\n",
       "      <td>63.00000</td>\n",
       "      <td>67.00000</td>\n",
       "      <td>29.82000</td>\n",
       "      <td>10.00000</td>\n",
       "      <td>7.00000</td>\n",
       "      <td>0.00000</td>\n",
       "    </tr>\n",
       "    <tr>\n",
       "      <th>75%</th>\n",
       "      <td>2.00000</td>\n",
       "      <td>40.16024</td>\n",
       "      <td>-80.37243</td>\n",
       "      <td>40.16105</td>\n",
       "      <td>-80.37338</td>\n",
       "      <td>0.76400</td>\n",
       "      <td>9567.00000</td>\n",
       "      <td>76.00000</td>\n",
       "      <td>76.00000</td>\n",
       "      <td>83.00000</td>\n",
       "      <td>30.01000</td>\n",
       "      <td>10.00000</td>\n",
       "      <td>10.00000</td>\n",
       "      <td>0.00000</td>\n",
       "    </tr>\n",
       "    <tr>\n",
       "      <th>max</th>\n",
       "      <td>4.00000</td>\n",
       "      <td>49.00058</td>\n",
       "      <td>-67.11317</td>\n",
       "      <td>49.07500</td>\n",
       "      <td>-67.10924</td>\n",
       "      <td>155.18600</td>\n",
       "      <td>9999997.00000</td>\n",
       "      <td>196.00000</td>\n",
       "      <td>196.00000</td>\n",
       "      <td>100.00000</td>\n",
       "      <td>58.90000</td>\n",
       "      <td>140.00000</td>\n",
       "      <td>1087.00000</td>\n",
       "      <td>24.00000</td>\n",
       "    </tr>\n",
       "  </tbody>\n",
       "</table>\n",
       "</div>"
      ],
      "text/plain": [
       "           Severity     Start_Lat     Start_Lng       End_Lat       End_Lng  \\\n",
       "count 2845342.00000 2845342.00000 2845342.00000 2845342.00000 2845342.00000   \n",
       "mean        2.13757      36.24520     -97.11463      36.24532     -97.11439   \n",
       "std         0.47872       5.36380      18.31782       5.36387      18.31763   \n",
       "min         1.00000      24.56603    -124.54807      24.56601    -124.54575   \n",
       "25%         2.00000      33.44517    -118.03311      33.44628    -118.03333   \n",
       "50%         2.00000      36.09861     -92.41808      36.09799     -92.41772   \n",
       "75%         2.00000      40.16024     -80.37243      40.16105     -80.37338   \n",
       "max         4.00000      49.00058     -67.11317      49.07500     -67.10924   \n",
       "\n",
       "       Distance(mi)        Number  Temperature(F)  Wind_Chill(F)  \\\n",
       "count 2845342.00000 1101431.00000   2776068.00000  2375699.00000   \n",
       "mean        0.70268    8089.40811        61.79356       59.65823   \n",
       "std         1.56036   18360.09399        18.62263       21.16097   \n",
       "min         0.00000       0.00000       -89.00000      -89.00000   \n",
       "25%         0.05200    1270.00000        50.00000       46.00000   \n",
       "50%         0.24400    4007.00000        64.00000       63.00000   \n",
       "75%         0.76400    9567.00000        76.00000       76.00000   \n",
       "max       155.18600 9999997.00000       196.00000      196.00000   \n",
       "\n",
       "        Humidity(%)  Pressure(in)  Visibility(mi)  Wind_Speed(mph)  \\\n",
       "count 2772250.00000 2786142.00000   2774796.00000    2687398.00000   \n",
       "mean       64.36545      29.47234         9.09939          7.39504   \n",
       "std        22.87457       1.04529         2.71755          5.52745   \n",
       "min         1.00000       0.00000         0.00000          0.00000   \n",
       "25%        48.00000      29.31000        10.00000          3.50000   \n",
       "50%        67.00000      29.82000        10.00000          7.00000   \n",
       "75%        83.00000      30.01000        10.00000         10.00000   \n",
       "max       100.00000      58.90000       140.00000       1087.00000   \n",
       "\n",
       "       Precipitation(in)  \n",
       "count      2295884.00000  \n",
       "mean             0.00702  \n",
       "std              0.09349  \n",
       "min              0.00000  \n",
       "25%              0.00000  \n",
       "50%              0.00000  \n",
       "75%              0.00000  \n",
       "max             24.00000  "
      ]
     },
     "execution_count": 14,
     "metadata": {},
     "output_type": "execute_result"
    }
   ],
   "source": [
    "#view the data in each column with numeric data\n",
    "us_data.describe()"
   ]
  },
  {
   "cell_type": "code",
   "execution_count": 15,
   "id": "0762afb7",
   "metadata": {
    "scrolled": false
   },
   "outputs": [
    {
     "data": {
      "text/html": [
       "<div>\n",
       "<style scoped>\n",
       "    .dataframe tbody tr th:only-of-type {\n",
       "        vertical-align: middle;\n",
       "    }\n",
       "\n",
       "    .dataframe tbody tr th {\n",
       "        vertical-align: top;\n",
       "    }\n",
       "\n",
       "    .dataframe thead th {\n",
       "        text-align: right;\n",
       "    }\n",
       "</style>\n",
       "<table border=\"1\" class=\"dataframe\">\n",
       "  <thead>\n",
       "    <tr style=\"text-align: right;\">\n",
       "      <th></th>\n",
       "      <th>missing_count</th>\n",
       "    </tr>\n",
       "  </thead>\n",
       "  <tbody>\n",
       "    <tr>\n",
       "      <th>Number</th>\n",
       "      <td>1743911</td>\n",
       "    </tr>\n",
       "    <tr>\n",
       "      <th>Precipitation(in)</th>\n",
       "      <td>549458</td>\n",
       "    </tr>\n",
       "    <tr>\n",
       "      <th>Wind_Chill(F)</th>\n",
       "      <td>469643</td>\n",
       "    </tr>\n",
       "    <tr>\n",
       "      <th>Wind_Speed(mph)</th>\n",
       "      <td>157944</td>\n",
       "    </tr>\n",
       "    <tr>\n",
       "      <th>Wind_Direction</th>\n",
       "      <td>73775</td>\n",
       "    </tr>\n",
       "    <tr>\n",
       "      <th>Humidity(%)</th>\n",
       "      <td>73092</td>\n",
       "    </tr>\n",
       "    <tr>\n",
       "      <th>Weather_Condition</th>\n",
       "      <td>70636</td>\n",
       "    </tr>\n",
       "    <tr>\n",
       "      <th>Visibility(mi)</th>\n",
       "      <td>70546</td>\n",
       "    </tr>\n",
       "    <tr>\n",
       "      <th>Temperature(F)</th>\n",
       "      <td>69274</td>\n",
       "    </tr>\n",
       "    <tr>\n",
       "      <th>Pressure(in)</th>\n",
       "      <td>59200</td>\n",
       "    </tr>\n",
       "    <tr>\n",
       "      <th>Weather_Timestamp</th>\n",
       "      <td>50736</td>\n",
       "    </tr>\n",
       "    <tr>\n",
       "      <th>Airport_Code</th>\n",
       "      <td>9549</td>\n",
       "    </tr>\n",
       "    <tr>\n",
       "      <th>Timezone</th>\n",
       "      <td>3659</td>\n",
       "    </tr>\n",
       "    <tr>\n",
       "      <th>Nautical_Twilight</th>\n",
       "      <td>2867</td>\n",
       "    </tr>\n",
       "    <tr>\n",
       "      <th>Civil_Twilight</th>\n",
       "      <td>2867</td>\n",
       "    </tr>\n",
       "    <tr>\n",
       "      <th>Sunrise_Sunset</th>\n",
       "      <td>2867</td>\n",
       "    </tr>\n",
       "    <tr>\n",
       "      <th>Astronomical_Twilight</th>\n",
       "      <td>2867</td>\n",
       "    </tr>\n",
       "    <tr>\n",
       "      <th>Zipcode</th>\n",
       "      <td>1319</td>\n",
       "    </tr>\n",
       "    <tr>\n",
       "      <th>City</th>\n",
       "      <td>137</td>\n",
       "    </tr>\n",
       "    <tr>\n",
       "      <th>Street</th>\n",
       "      <td>2</td>\n",
       "    </tr>\n",
       "  </tbody>\n",
       "</table>\n",
       "</div>"
      ],
      "text/plain": [
       "                       missing_count\n",
       "Number                       1743911\n",
       "Precipitation(in)             549458\n",
       "Wind_Chill(F)                 469643\n",
       "Wind_Speed(mph)               157944\n",
       "Wind_Direction                 73775\n",
       "Humidity(%)                    73092\n",
       "Weather_Condition              70636\n",
       "Visibility(mi)                 70546\n",
       "Temperature(F)                 69274\n",
       "Pressure(in)                   59200\n",
       "Weather_Timestamp              50736\n",
       "Airport_Code                    9549\n",
       "Timezone                        3659\n",
       "Nautical_Twilight               2867\n",
       "Civil_Twilight                  2867\n",
       "Sunrise_Sunset                  2867\n",
       "Astronomical_Twilight           2867\n",
       "Zipcode                         1319\n",
       "City                             137\n",
       "Street                             2"
      ]
     },
     "execution_count": 15,
     "metadata": {},
     "output_type": "execute_result"
    }
   ],
   "source": [
    "missing_value = us_data.isna().sum(axis=0).sort_values(ascending=False)\n",
    "missing_value = missing_value.to_frame()\n",
    "missing_value.columns = ['missing_count']\n",
    "missing_value = missing_value.loc[missing_value['missing_count']>0]\n",
    "\n",
    "missing_value"
   ]
  },
  {
   "cell_type": "markdown",
   "id": "942388e4",
   "metadata": {},
   "source": [
    "In above table, we can see that the \"Number\" column has the most NULL value or missing count, so we will drop it."
   ]
  },
  {
   "cell_type": "code",
   "execution_count": 16,
   "id": "b3fabf52",
   "metadata": {
    "scrolled": false
   },
   "outputs": [],
   "source": [
    "us_data = us_data.drop(\"Number\",axis=1)"
   ]
  },
  {
   "cell_type": "code",
   "execution_count": 17,
   "id": "ba7293c9",
   "metadata": {
    "scrolled": false
   },
   "outputs": [
    {
     "data": {
      "text/html": [
       "<div>\n",
       "<style scoped>\n",
       "    .dataframe tbody tr th:only-of-type {\n",
       "        vertical-align: middle;\n",
       "    }\n",
       "\n",
       "    .dataframe tbody tr th {\n",
       "        vertical-align: top;\n",
       "    }\n",
       "\n",
       "    .dataframe thead th {\n",
       "        text-align: right;\n",
       "    }\n",
       "</style>\n",
       "<table border=\"1\" class=\"dataframe\">\n",
       "  <thead>\n",
       "    <tr style=\"text-align: right;\">\n",
       "      <th></th>\n",
       "      <th>ID</th>\n",
       "      <th>Severity</th>\n",
       "      <th>Start_Time</th>\n",
       "      <th>End_Time</th>\n",
       "      <th>Start_Lat</th>\n",
       "      <th>Start_Lng</th>\n",
       "      <th>End_Lat</th>\n",
       "      <th>End_Lng</th>\n",
       "      <th>Distance(mi)</th>\n",
       "      <th>Description</th>\n",
       "      <th>Street</th>\n",
       "      <th>Side</th>\n",
       "      <th>City</th>\n",
       "      <th>County</th>\n",
       "      <th>State</th>\n",
       "      <th>Zipcode</th>\n",
       "      <th>Country</th>\n",
       "      <th>Timezone</th>\n",
       "      <th>Airport_Code</th>\n",
       "      <th>Weather_Timestamp</th>\n",
       "      <th>Temperature(F)</th>\n",
       "      <th>Wind_Chill(F)</th>\n",
       "      <th>Humidity(%)</th>\n",
       "      <th>Pressure(in)</th>\n",
       "      <th>Visibility(mi)</th>\n",
       "      <th>Wind_Direction</th>\n",
       "      <th>Wind_Speed(mph)</th>\n",
       "      <th>Precipitation(in)</th>\n",
       "      <th>Weather_Condition</th>\n",
       "      <th>Amenity</th>\n",
       "      <th>Bump</th>\n",
       "      <th>Crossing</th>\n",
       "      <th>Give_Way</th>\n",
       "      <th>Junction</th>\n",
       "      <th>No_Exit</th>\n",
       "      <th>Railway</th>\n",
       "      <th>Roundabout</th>\n",
       "      <th>Station</th>\n",
       "      <th>Stop</th>\n",
       "      <th>Traffic_Calming</th>\n",
       "      <th>Traffic_Signal</th>\n",
       "      <th>Turning_Loop</th>\n",
       "      <th>Sunrise_Sunset</th>\n",
       "      <th>Civil_Twilight</th>\n",
       "      <th>Nautical_Twilight</th>\n",
       "      <th>Astronomical_Twilight</th>\n",
       "    </tr>\n",
       "  </thead>\n",
       "  <tbody>\n",
       "    <tr>\n",
       "      <th>0</th>\n",
       "      <td>A-1</td>\n",
       "      <td>3</td>\n",
       "      <td>2016-02-08 00:37:08</td>\n",
       "      <td>2016-02-08 06:37:08</td>\n",
       "      <td>40.10891</td>\n",
       "      <td>-83.09286</td>\n",
       "      <td>40.11206</td>\n",
       "      <td>-83.03187</td>\n",
       "      <td>3.23000</td>\n",
       "      <td>Between Sawmill Rd/Exit 20 and OH-315/Olentang...</td>\n",
       "      <td>Outerbelt E</td>\n",
       "      <td>R</td>\n",
       "      <td>Dublin</td>\n",
       "      <td>Franklin</td>\n",
       "      <td>OH</td>\n",
       "      <td>43017</td>\n",
       "      <td>US</td>\n",
       "      <td>US/Eastern</td>\n",
       "      <td>KOSU</td>\n",
       "      <td>2016-02-08 00:53:00</td>\n",
       "      <td>42.10000</td>\n",
       "      <td>36.10000</td>\n",
       "      <td>58.00000</td>\n",
       "      <td>29.76000</td>\n",
       "      <td>10.00000</td>\n",
       "      <td>SW</td>\n",
       "      <td>10.40000</td>\n",
       "      <td>0.00000</td>\n",
       "      <td>Light Rain</td>\n",
       "      <td>False</td>\n",
       "      <td>False</td>\n",
       "      <td>False</td>\n",
       "      <td>False</td>\n",
       "      <td>False</td>\n",
       "      <td>False</td>\n",
       "      <td>False</td>\n",
       "      <td>False</td>\n",
       "      <td>False</td>\n",
       "      <td>False</td>\n",
       "      <td>False</td>\n",
       "      <td>False</td>\n",
       "      <td>False</td>\n",
       "      <td>Night</td>\n",
       "      <td>Night</td>\n",
       "      <td>Night</td>\n",
       "      <td>Night</td>\n",
       "    </tr>\n",
       "    <tr>\n",
       "      <th>1</th>\n",
       "      <td>A-2</td>\n",
       "      <td>2</td>\n",
       "      <td>2016-02-08 05:56:20</td>\n",
       "      <td>2016-02-08 11:56:20</td>\n",
       "      <td>39.86542</td>\n",
       "      <td>-84.06280</td>\n",
       "      <td>39.86501</td>\n",
       "      <td>-84.04873</td>\n",
       "      <td>0.74700</td>\n",
       "      <td>At OH-4/OH-235/Exit 41 - Accident.</td>\n",
       "      <td>I-70 E</td>\n",
       "      <td>R</td>\n",
       "      <td>Dayton</td>\n",
       "      <td>Montgomery</td>\n",
       "      <td>OH</td>\n",
       "      <td>45424</td>\n",
       "      <td>US</td>\n",
       "      <td>US/Eastern</td>\n",
       "      <td>KFFO</td>\n",
       "      <td>2016-02-08 05:58:00</td>\n",
       "      <td>36.90000</td>\n",
       "      <td>NaN</td>\n",
       "      <td>91.00000</td>\n",
       "      <td>29.68000</td>\n",
       "      <td>10.00000</td>\n",
       "      <td>Calm</td>\n",
       "      <td>NaN</td>\n",
       "      <td>0.02000</td>\n",
       "      <td>Light Rain</td>\n",
       "      <td>False</td>\n",
       "      <td>False</td>\n",
       "      <td>False</td>\n",
       "      <td>False</td>\n",
       "      <td>False</td>\n",
       "      <td>False</td>\n",
       "      <td>False</td>\n",
       "      <td>False</td>\n",
       "      <td>False</td>\n",
       "      <td>False</td>\n",
       "      <td>False</td>\n",
       "      <td>False</td>\n",
       "      <td>False</td>\n",
       "      <td>Night</td>\n",
       "      <td>Night</td>\n",
       "      <td>Night</td>\n",
       "      <td>Night</td>\n",
       "    </tr>\n",
       "    <tr>\n",
       "      <th>2</th>\n",
       "      <td>A-3</td>\n",
       "      <td>2</td>\n",
       "      <td>2016-02-08 06:15:39</td>\n",
       "      <td>2016-02-08 12:15:39</td>\n",
       "      <td>39.10266</td>\n",
       "      <td>-84.52468</td>\n",
       "      <td>39.10209</td>\n",
       "      <td>-84.52396</td>\n",
       "      <td>0.05500</td>\n",
       "      <td>At I-71/US-50/Exit 1 - Accident.</td>\n",
       "      <td>I-75 S</td>\n",
       "      <td>R</td>\n",
       "      <td>Cincinnati</td>\n",
       "      <td>Hamilton</td>\n",
       "      <td>OH</td>\n",
       "      <td>45203</td>\n",
       "      <td>US</td>\n",
       "      <td>US/Eastern</td>\n",
       "      <td>KLUK</td>\n",
       "      <td>2016-02-08 05:53:00</td>\n",
       "      <td>36.00000</td>\n",
       "      <td>NaN</td>\n",
       "      <td>97.00000</td>\n",
       "      <td>29.70000</td>\n",
       "      <td>10.00000</td>\n",
       "      <td>Calm</td>\n",
       "      <td>NaN</td>\n",
       "      <td>0.02000</td>\n",
       "      <td>Overcast</td>\n",
       "      <td>False</td>\n",
       "      <td>False</td>\n",
       "      <td>False</td>\n",
       "      <td>False</td>\n",
       "      <td>True</td>\n",
       "      <td>False</td>\n",
       "      <td>False</td>\n",
       "      <td>False</td>\n",
       "      <td>False</td>\n",
       "      <td>False</td>\n",
       "      <td>False</td>\n",
       "      <td>False</td>\n",
       "      <td>False</td>\n",
       "      <td>Night</td>\n",
       "      <td>Night</td>\n",
       "      <td>Night</td>\n",
       "      <td>Day</td>\n",
       "    </tr>\n",
       "    <tr>\n",
       "      <th>3</th>\n",
       "      <td>A-4</td>\n",
       "      <td>2</td>\n",
       "      <td>2016-02-08 06:51:45</td>\n",
       "      <td>2016-02-08 12:51:45</td>\n",
       "      <td>41.06213</td>\n",
       "      <td>-81.53784</td>\n",
       "      <td>41.06217</td>\n",
       "      <td>-81.53547</td>\n",
       "      <td>0.12300</td>\n",
       "      <td>At Dart Ave/Exit 21 - Accident.</td>\n",
       "      <td>I-77 N</td>\n",
       "      <td>R</td>\n",
       "      <td>Akron</td>\n",
       "      <td>Summit</td>\n",
       "      <td>OH</td>\n",
       "      <td>44311</td>\n",
       "      <td>US</td>\n",
       "      <td>US/Eastern</td>\n",
       "      <td>KAKR</td>\n",
       "      <td>2016-02-08 06:54:00</td>\n",
       "      <td>39.00000</td>\n",
       "      <td>NaN</td>\n",
       "      <td>55.00000</td>\n",
       "      <td>29.65000</td>\n",
       "      <td>10.00000</td>\n",
       "      <td>Calm</td>\n",
       "      <td>NaN</td>\n",
       "      <td>NaN</td>\n",
       "      <td>Overcast</td>\n",
       "      <td>False</td>\n",
       "      <td>False</td>\n",
       "      <td>False</td>\n",
       "      <td>False</td>\n",
       "      <td>False</td>\n",
       "      <td>False</td>\n",
       "      <td>False</td>\n",
       "      <td>False</td>\n",
       "      <td>False</td>\n",
       "      <td>False</td>\n",
       "      <td>False</td>\n",
       "      <td>False</td>\n",
       "      <td>False</td>\n",
       "      <td>Night</td>\n",
       "      <td>Night</td>\n",
       "      <td>Day</td>\n",
       "      <td>Day</td>\n",
       "    </tr>\n",
       "    <tr>\n",
       "      <th>4</th>\n",
       "      <td>A-5</td>\n",
       "      <td>3</td>\n",
       "      <td>2016-02-08 07:53:43</td>\n",
       "      <td>2016-02-08 13:53:43</td>\n",
       "      <td>39.17239</td>\n",
       "      <td>-84.49279</td>\n",
       "      <td>39.17048</td>\n",
       "      <td>-84.50180</td>\n",
       "      <td>0.50000</td>\n",
       "      <td>At Mitchell Ave/Exit 6 - Accident.</td>\n",
       "      <td>I-75 S</td>\n",
       "      <td>R</td>\n",
       "      <td>Cincinnati</td>\n",
       "      <td>Hamilton</td>\n",
       "      <td>OH</td>\n",
       "      <td>45217</td>\n",
       "      <td>US</td>\n",
       "      <td>US/Eastern</td>\n",
       "      <td>KLUK</td>\n",
       "      <td>2016-02-08 07:53:00</td>\n",
       "      <td>37.00000</td>\n",
       "      <td>29.80000</td>\n",
       "      <td>93.00000</td>\n",
       "      <td>29.69000</td>\n",
       "      <td>10.00000</td>\n",
       "      <td>WSW</td>\n",
       "      <td>10.40000</td>\n",
       "      <td>0.01000</td>\n",
       "      <td>Light Rain</td>\n",
       "      <td>False</td>\n",
       "      <td>False</td>\n",
       "      <td>False</td>\n",
       "      <td>False</td>\n",
       "      <td>False</td>\n",
       "      <td>False</td>\n",
       "      <td>False</td>\n",
       "      <td>False</td>\n",
       "      <td>False</td>\n",
       "      <td>False</td>\n",
       "      <td>False</td>\n",
       "      <td>False</td>\n",
       "      <td>False</td>\n",
       "      <td>Day</td>\n",
       "      <td>Day</td>\n",
       "      <td>Day</td>\n",
       "      <td>Day</td>\n",
       "    </tr>\n",
       "  </tbody>\n",
       "</table>\n",
       "</div>"
      ],
      "text/plain": [
       "    ID  Severity           Start_Time             End_Time  Start_Lat  \\\n",
       "0  A-1         3  2016-02-08 00:37:08  2016-02-08 06:37:08   40.10891   \n",
       "1  A-2         2  2016-02-08 05:56:20  2016-02-08 11:56:20   39.86542   \n",
       "2  A-3         2  2016-02-08 06:15:39  2016-02-08 12:15:39   39.10266   \n",
       "3  A-4         2  2016-02-08 06:51:45  2016-02-08 12:51:45   41.06213   \n",
       "4  A-5         3  2016-02-08 07:53:43  2016-02-08 13:53:43   39.17239   \n",
       "\n",
       "   Start_Lng  End_Lat   End_Lng  Distance(mi)  \\\n",
       "0  -83.09286 40.11206 -83.03187       3.23000   \n",
       "1  -84.06280 39.86501 -84.04873       0.74700   \n",
       "2  -84.52468 39.10209 -84.52396       0.05500   \n",
       "3  -81.53784 41.06217 -81.53547       0.12300   \n",
       "4  -84.49279 39.17048 -84.50180       0.50000   \n",
       "\n",
       "                                         Description       Street Side  \\\n",
       "0  Between Sawmill Rd/Exit 20 and OH-315/Olentang...  Outerbelt E    R   \n",
       "1                 At OH-4/OH-235/Exit 41 - Accident.       I-70 E    R   \n",
       "2                   At I-71/US-50/Exit 1 - Accident.       I-75 S    R   \n",
       "3                    At Dart Ave/Exit 21 - Accident.       I-77 N    R   \n",
       "4                 At Mitchell Ave/Exit 6 - Accident.       I-75 S    R   \n",
       "\n",
       "         City      County State Zipcode Country    Timezone Airport_Code  \\\n",
       "0      Dublin    Franklin    OH   43017      US  US/Eastern         KOSU   \n",
       "1      Dayton  Montgomery    OH   45424      US  US/Eastern         KFFO   \n",
       "2  Cincinnati    Hamilton    OH   45203      US  US/Eastern         KLUK   \n",
       "3       Akron      Summit    OH   44311      US  US/Eastern         KAKR   \n",
       "4  Cincinnati    Hamilton    OH   45217      US  US/Eastern         KLUK   \n",
       "\n",
       "     Weather_Timestamp  Temperature(F)  Wind_Chill(F)  Humidity(%)  \\\n",
       "0  2016-02-08 00:53:00        42.10000       36.10000     58.00000   \n",
       "1  2016-02-08 05:58:00        36.90000            NaN     91.00000   \n",
       "2  2016-02-08 05:53:00        36.00000            NaN     97.00000   \n",
       "3  2016-02-08 06:54:00        39.00000            NaN     55.00000   \n",
       "4  2016-02-08 07:53:00        37.00000       29.80000     93.00000   \n",
       "\n",
       "   Pressure(in)  Visibility(mi) Wind_Direction  Wind_Speed(mph)  \\\n",
       "0      29.76000        10.00000             SW         10.40000   \n",
       "1      29.68000        10.00000           Calm              NaN   \n",
       "2      29.70000        10.00000           Calm              NaN   \n",
       "3      29.65000        10.00000           Calm              NaN   \n",
       "4      29.69000        10.00000            WSW         10.40000   \n",
       "\n",
       "   Precipitation(in) Weather_Condition  Amenity   Bump  Crossing  Give_Way  \\\n",
       "0            0.00000        Light Rain    False  False     False     False   \n",
       "1            0.02000        Light Rain    False  False     False     False   \n",
       "2            0.02000          Overcast    False  False     False     False   \n",
       "3                NaN          Overcast    False  False     False     False   \n",
       "4            0.01000        Light Rain    False  False     False     False   \n",
       "\n",
       "   Junction  No_Exit  Railway  Roundabout  Station   Stop  Traffic_Calming  \\\n",
       "0     False    False    False       False    False  False            False   \n",
       "1     False    False    False       False    False  False            False   \n",
       "2      True    False    False       False    False  False            False   \n",
       "3     False    False    False       False    False  False            False   \n",
       "4     False    False    False       False    False  False            False   \n",
       "\n",
       "   Traffic_Signal  Turning_Loop Sunrise_Sunset Civil_Twilight  \\\n",
       "0           False         False          Night          Night   \n",
       "1           False         False          Night          Night   \n",
       "2           False         False          Night          Night   \n",
       "3           False         False          Night          Night   \n",
       "4           False         False            Day            Day   \n",
       "\n",
       "  Nautical_Twilight Astronomical_Twilight  \n",
       "0             Night                 Night  \n",
       "1             Night                 Night  \n",
       "2             Night                   Day  \n",
       "3               Day                   Day  \n",
       "4               Day                   Day  "
      ]
     },
     "execution_count": 17,
     "metadata": {},
     "output_type": "execute_result"
    }
   ],
   "source": [
    "us_data.head()"
   ]
  },
  {
   "cell_type": "markdown",
   "id": "cf7150e5",
   "metadata": {},
   "source": [
    "# Top 10 Accident states in US (2016 - 2021) "
   ]
  },
  {
   "cell_type": "code",
   "execution_count": 18,
   "id": "1e56139d",
   "metadata": {
    "scrolled": false
   },
   "outputs": [
    {
     "data": {
      "image/png": "[encoded data removed]",
      "text/plain": [
       "<Figure size 1080x576 with 1 Axes>"
      ]
     },
     "metadata": {
      "needs_background": "light"
     },
     "output_type": "display_data"
    }
   ],
   "source": [
    "state = pd.DataFrame(us_data.State.value_counts()).reset_index().rename(columns={\"index\":\"State\",\"State\":\"Cases\"})\n",
    "top_state = pd.DataFrame(state.head(10))\n",
    "plt.figure(figsize=(15,8))\n",
    "plt.title(\"Top {} Accident states in US (2016 - 2021) \".format(len(top_state)),size=17,color=\"Blue\",y=1.04)\n",
    "plt.xlabel('\\n States \\n', fontsize = 15, color = 'grey')\n",
    "plt.ylabel('\\nAccident Cases\\n', fontsize = 15, color = 'grey')\n",
    "plt.xticks(fontsize=13)\n",
    "plt.yticks(fontsize=12)\n",
    "sns.barplot(x = top_state.State, y=state.Cases,color= \"Green\")\n",
    "plt.show()"
   ]
  },
  {
   "cell_type": "code",
   "execution_count": 19,
   "id": "ddb91371",
   "metadata": {
    "scrolled": false
   },
   "outputs": [
    {
     "data": {
      "image/png": "[encoded data removed]",
      "text/plain": [
       "<Figure size 720x576 with 1 Axes>"
      ]
     },
     "metadata": {},
     "output_type": "display_data"
    }
   ],
   "source": [
    "#As there are 10657 unique cities, we cant plot data for all of them.\n",
    "#So, I only plot data of cities which had reported more than 10k accident cases.\n",
    "a = us_data.State.value_counts()\n",
    "plt.figure(figsize=(10,8))\n",
    "lab = a[a>60000].index\n",
    "plt.title(\"{} US states where accident cases recorded are more than 60,000\".format(len(lab)),size=17,color=\"grey\",y=1.04)\n",
    "plt.pie(a[a>60000],shadow=True,explode=(0.2,0.1,0.1,0.1,0.1,0.1,0.1,0.1,0.1,0.1,0.1), startangle=45,labels=lab,autopct='%1.1f%%')\n",
    "plt.show()"
   ]
  },
  {
   "cell_type": "markdown",
   "id": "5b9fab00",
   "metadata": {},
   "source": [
    "# Top 10 Accident Cities in US (2016 - 2021) "
   ]
  },
  {
   "cell_type": "code",
   "execution_count": 20,
   "id": "eeb5f33c",
   "metadata": {
    "scrolled": false
   },
   "outputs": [
    {
     "data": {
      "image/png": "[encoded data removed]",
      "text/plain": [
       "<Figure size 1152x576 with 1 Axes>"
      ]
     },
     "metadata": {
      "needs_background": "light"
     },
     "output_type": "display_data"
    }
   ],
   "source": [
    "city = pd.DataFrame(us_data.City.value_counts()).reset_index().rename(columns={\"index\":\"City\", \"City\":\"Cases\"})\n",
    "top_city = pd.DataFrame(city.head(10))\n",
    "plt.figure(figsize=(16, 8))\n",
    "plt.title(\"Top {} Accident cities in US (2016 - 2021)\".format(len(top_city)), size=18, color='blue', y=1.04)\n",
    "plt.xlabel('\\n City \\n', fontsize = 15, color = 'black')\n",
    "plt.ylabel('\\nAccident Cases\\n', fontsize = 16, color = 'black')\n",
    "plt.xticks(fontsize=13)\n",
    "plt.yticks(fontsize=12)\n",
    "sns.barplot(x = top_city.City, y=city.Cases,color= \"red\")\n",
    "plt.show()"
   ]
  },
  {
   "cell_type": "code",
   "execution_count": 21,
   "id": "f56b1854",
   "metadata": {
    "scrolled": false
   },
   "outputs": [
    {
     "name": "stdout",
     "output_type": "stream",
     "text": [
      "Percentage of accident cases reported in city : Miami is 9.16%\n",
      "Percentage of accident cases reported in city : Los Angeles is 5.90%\n",
      "Percentage of accident cases reported in city : Orlando is 4.68%\n",
      "Percentage of accident cases reported in city : Dallas is 3.59%\n",
      "Percentage of accident cases reported in city : Houston is 3.38%\n",
      "Percentage of accident cases reported in city : Charlotte is 2.84%\n",
      "Percentage of accident cases reported in city : Sacramento is 2.79%\n",
      "Percentage of accident cases reported in city : San Diego is 2.28%\n",
      "Percentage of accident cases reported in city : Raleigh is 1.96%\n",
      "Percentage of accident cases reported in city : Minneapolis is 1.95%\n"
     ]
    }
   ],
   "source": [
    "#Showing the percentage of the accident cases reported on the city.\n",
    "\n",
    "for (i, j) in zip(city[\"City\"], range(0,10)):\n",
    "    print(\"Percentage of accident cases reported in city : {} is {:.2f}%\".format(i, (city.Cases[j]/len(city.Cases))))"
   ]
  },
  {
   "cell_type": "markdown",
   "id": "fbc72231",
   "metadata": {},
   "source": [
    "# Accident different hour in the day"
   ]
  },
  {
   "cell_type": "code",
   "execution_count": 22,
   "id": "2152cb91",
   "metadata": {
    "scrolled": false
   },
   "outputs": [],
   "source": [
    "# Make the first parse the Start_Time column as a datetime column.\n",
    "us_data.Start_Time = pd.to_datetime(us_data.Start_Time)"
   ]
  },
  {
   "cell_type": "code",
   "execution_count": 23,
   "id": "d48cbf4b",
   "metadata": {
    "scrolled": false
   },
   "outputs": [],
   "source": [
    "hour = pd.DataFrame(us_data.Start_Time.dt.hour.value_counts()).reset_index().rename(columns={\"index\":\"Hour\",\"Start_Time\":\"Accident_Cases\"})"
   ]
  },
  {
   "cell_type": "code",
   "execution_count": 25,
   "id": "d54bcee0",
   "metadata": {
    "scrolled": false
   },
   "outputs": [
    {
     "data": {
      "image/png": "[encoded data removed]",
      "text/plain": [
       "<Figure size 648x288 with 1 Axes>"
      ]
     },
     "metadata": {
      "needs_background": "light"
     },
     "output_type": "display_data"
    }
   ],
   "source": [
    "plt.figure(figsize=(9,4))\n",
    "plt.title('\\n Accident cases for different hours of a day\\n', size=20, color='grey')\n",
    "plt.xlabel('\\n Hours \\n', fontsize=15, color='grey')\n",
    "plt.ylabel('\\nAccident Cases\\n', fontsize=15, color='grey')\n",
    "plt.xticks(fontsize=13)\n",
    "plt.yticks(fontsize=12)\n",
    "a = sns.barplot(x=hour.Hour,y=hour.Accident_Cases,palette=\"pastel\")\n",
    "a.yaxis.set_major_formatter(ticker.EngFormatter())\n",
    "plt.show()"
   ]
  },
  {
   "cell_type": "markdown",
   "id": "7249407b",
   "metadata": {},
   "source": [
    "# Accident cases in 24 hours in some days a week."
   ]
  },
  {
   "cell_type": "markdown",
   "id": "60c0ae70",
   "metadata": {},
   "source": [
    "we can go inside each day a week to see the different between weekday and weekend."
   ]
  },
  {
   "cell_type": "code",
   "execution_count": 85,
   "id": "c6937c28",
   "metadata": {
    "scrolled": false
   },
   "outputs": [
    {
     "data": {
      "image/png": "[encoded data removed]",
      "text/plain": [
       "<Figure size 648x288 with 1 Axes>"
      ]
     },
     "metadata": {
      "needs_background": "light"
     },
     "output_type": "display_data"
    }
   ],
   "source": [
    "# Let's bring Tueday to be weekday sample.\n",
    "plt.figure(figsize=(9,4))\n",
    "plt.title('\\n Accident cases reported for different hours on Tuesday\\n', size=20, color='grey')\n",
    "plt.xlabel('\\n hours \\n', fontsize=15, color='grey')\n",
    "plt.ylabel('\\nAccident Cases\\n', fontsize=15, color='grey')\n",
    "plt.xticks(fontsize=13)\n",
    "plt.yticks(fontsize=12)\n",
    "\n",
    "tuesday = us_data.Start_Time[us_data.Start_Time.dt.dayofweek==1]\n",
    "a = sns.histplot(tuesday.dt.hour,bins=24,color=\"yellow\")\n",
    "a.xaxis.set_ticks(range(0,24))\n",
    "# More accidents take place in the morning and in the evening after people are going to/coming from their job.\n",
    "plt.show()"
   ]
  },
  {
   "cell_type": "code",
   "execution_count": 82,
   "id": "fdfa8280",
   "metadata": {
    "scrolled": false
   },
   "outputs": [
    {
     "data": {
      "image/png": "[encoded data removed]",
      "text/plain": [
       "<Figure size 648x288 with 1 Axes>"
      ]
     },
     "metadata": {
      "needs_background": "light"
     },
     "output_type": "display_data"
    }
   ],
   "source": [
    "# Let's bring Tueday to be weekday sample.\n",
    "plt.figure(figsize=(9,4))\n",
    "plt.title('\\n Accident cases reported for different hours on Saturday\\n', size=20, color='grey')\n",
    "plt.xlabel('\\n hours \\n', fontsize=15, color='grey')\n",
    "plt.ylabel('\\nAccident Cases\\n', fontsize=15, color='grey')\n",
    "plt.xticks(fontsize=13)\n",
    "plt.yticks(fontsize=12)\n",
    "\n",
    "saturday = us_data.Start_Time[us_data.Start_Time.dt.dayofweek==5]\n",
    "a = sns.histplot(saturday.dt.hour,bins=24,color=\"pink\")\n",
    "a.xaxis.set_ticks(range(0,24))\n",
    "# More accidents take place in the morning and in the evening after people are going to/coming from their job.\n",
    "plt.show()"
   ]
  },
  {
   "cell_type": "markdown",
   "id": "36ebf2bc",
   "metadata": {},
   "source": [
    "# Let's compare Top Three States ( California, Florida, and Texas)"
   ]
  },
  {
   "cell_type": "code",
   "execution_count": 26,
   "id": "c79b64d1",
   "metadata": {
    "scrolled": false
   },
   "outputs": [],
   "source": [
    "Texas = us_data[us_data[\"State\"] == 'TX']\n",
    "# Make the first parse the Start_Time column as a datetime column.\n",
    "Texas.Start_Time = pd.to_datetime(Texas.Start_Time)"
   ]
  },
  {
   "cell_type": "code",
   "execution_count": 27,
   "id": "c16552d9",
   "metadata": {
    "scrolled": false
   },
   "outputs": [],
   "source": [
    "Texas_hour = pd.DataFrame(Texas.Start_Time.dt.hour.value_counts()).reset_index().rename(columns={\"index\":\"Hour\",\"Start_Time\":\"Accident_Cases\"})"
   ]
  },
  {
   "cell_type": "code",
   "execution_count": 31,
   "id": "fb5e8e9a",
   "metadata": {
    "scrolled": false
   },
   "outputs": [
    {
     "data": {
      "image/png": "[encoded data removed]",
      "text/plain": [
       "<Figure size 648x288 with 1 Axes>"
      ]
     },
     "metadata": {
      "needs_background": "light"
     },
     "output_type": "display_data"
    }
   ],
   "source": [
    "plt.figure(figsize=(9,4))\n",
    "plt.title('\\n Accident cases in Texas for different hours of a day\\n', size=20, color='Black')\n",
    "plt.xlabel('\\n Hours \\n', fontsize=15, color='Black')\n",
    "plt.ylabel('\\nAccident Cases\\n', fontsize=15, color='Black')\n",
    "plt.xticks(fontsize=13)\n",
    "plt.yticks(fontsize=12)\n",
    "a = sns.barplot(x=Texas_hour.Hour,y=hour.Accident_Cases,palette=\"pastel\")\n",
    "a.yaxis.set_major_formatter(ticker.EngFormatter())\n",
    "plt.show()"
   ]
  },
  {
   "cell_type": "code",
   "execution_count": 32,
   "id": "0940c47d",
   "metadata": {
    "scrolled": false
   },
   "outputs": [],
   "source": [
    "Cal = us_data[us_data[\"State\"] == 'CA']\n",
    "# Make the first parse the Start_Time column as a datetime column.\n",
    "Cal.Start_Time = pd.to_datetime(Cal.Start_Time)"
   ]
  },
  {
   "cell_type": "code",
   "execution_count": 33,
   "id": "b2e6b7ea",
   "metadata": {
    "scrolled": false
   },
   "outputs": [],
   "source": [
    "Cal_hour = pd.DataFrame(Cal.Start_Time.dt.hour.value_counts()).reset_index().rename(columns={\"index\":\"Hour\",\"Start_Time\":\"Accident_Cases\"})"
   ]
  },
  {
   "cell_type": "code",
   "execution_count": 34,
   "id": "93c0cf98",
   "metadata": {
    "scrolled": false
   },
   "outputs": [
    {
     "data": {
      "image/png": "[encoded data removed]",
      "text/plain": [
       "<Figure size 648x288 with 1 Axes>"
      ]
     },
     "metadata": {
      "needs_background": "light"
     },
     "output_type": "display_data"
    }
   ],
   "source": [
    "plt.figure(figsize=(9,4))\n",
    "plt.title('\\n Accident cases in California for different hours of a day\\n', size=20, color='Black')\n",
    "plt.xlabel('\\n Hours \\n', fontsize=15, color='Black')\n",
    "plt.ylabel('\\nAccident Cases\\n', fontsize=15, color='Black')\n",
    "plt.xticks(fontsize=13)\n",
    "plt.yticks(fontsize=12)\n",
    "a = sns.barplot(x=Cal_hour.Hour,y=hour.Accident_Cases,palette=\"pastel\")\n",
    "a.yaxis.set_major_formatter(ticker.EngFormatter())\n",
    "plt.show()"
   ]
  },
  {
   "cell_type": "code",
   "execution_count": 35,
   "id": "ea6470dc",
   "metadata": {
    "scrolled": false
   },
   "outputs": [],
   "source": [
    "Flo = us_data[us_data[\"State\"] == 'FL']\n",
    "# Make the first parse the Start_Time column as a datetime column.\n",
    "Flo.Start_Time = pd.to_datetime(Flo.Start_Time)"
   ]
  },
  {
   "cell_type": "code",
   "execution_count": 36,
   "id": "a8bd1a5d",
   "metadata": {
    "scrolled": false
   },
   "outputs": [],
   "source": [
    "Flo_hour = pd.DataFrame(Flo.Start_Time.dt.hour.value_counts()).reset_index().rename(columns={\"index\":\"Hour\",\"Start_Time\":\"Accident_Cases\"})"
   ]
  },
  {
   "cell_type": "code",
   "execution_count": 37,
   "id": "338571f2",
   "metadata": {
    "scrolled": false
   },
   "outputs": [
    {
     "data": {
      "image/png": "[encoded data removed]",
      "text/plain": [
       "<Figure size 648x288 with 1 Axes>"
      ]
     },
     "metadata": {
      "needs_background": "light"
     },
     "output_type": "display_data"
    }
   ],
   "source": [
    "plt.figure(figsize=(9,4))\n",
    "plt.title('\\n Accident cases in Florida for different hours of a day\\n', size=20, color='Black')\n",
    "plt.xlabel('\\n Hours \\n', fontsize=15, color='Black')\n",
    "plt.ylabel('\\nAccident Cases\\n', fontsize=15, color='Black')\n",
    "plt.xticks(fontsize=13)\n",
    "plt.yticks(fontsize=12)\n",
    "a = sns.barplot(x=Flo_hour.Hour,y=hour.Accident_Cases,palette=\"pastel\")\n",
    "a.yaxis.set_major_formatter(ticker.EngFormatter())\n",
    "plt.show()"
   ]
  },
  {
   "cell_type": "markdown",
   "id": "65ed1120",
   "metadata": {},
   "source": [
    "# Accident by day in the week"
   ]
  },
  {
   "cell_type": "code",
   "execution_count": 54,
   "id": "e2da8d0c",
   "metadata": {
    "scrolled": false
   },
   "outputs": [],
   "source": [
    "day = pd.DataFrame(us_data.Start_Time.dt.day_name().value_counts()).reset_index().rename(columns={'index':'Day', 'Start_Time':'Cases'})\n"
   ]
  },
  {
   "cell_type": "code",
   "execution_count": 86,
   "id": "d8611851",
   "metadata": {
    "scrolled": false
   },
   "outputs": [
    {
     "name": "stdout",
     "output_type": "stream",
     "text": [
      "         Day   Cases\n",
      "0     Friday  492074\n",
      "1   Thursday  463477\n",
      "2  Wednesday  455037\n",
      "3    Tuesday  443968\n",
      "4     Monday  419821\n",
      "5   Saturday  311691\n",
      "6     Sunday  259274\n"
     ]
    },
    {
     "data": {
      "image/png": "[encoded data removed]",
      "text/plain": [
       "<Figure size 648x288 with 1 Axes>"
      ]
     },
     "metadata": {
      "needs_background": "light"
     },
     "output_type": "display_data"
    }
   ],
   "source": [
    "plt.figure(figsize=(9,4))\n",
    "plt.title('\\n Accident cases for different days of a week\\n', size=20, color='grey')\n",
    "plt.xlabel('\\n Day \\n', fontsize=15, color='grey')\n",
    "plt.ylabel('\\nAccident Cases\\n', fontsize=15, color='grey')\n",
    "plt.xticks(fontsize=13)\n",
    "plt.yticks(fontsize=12)\n",
    "Days = ['Monday', 'Tuesday', 'Wednesday', 'Thursday', 'Friday', 'Saturday', 'Sunday']\n",
    "print(day)\n",
    "a = sns.barplot(x=day.Day,y=day.Cases,palette=\"rainbow\")\n",
    "a.yaxis.set_major_formatter(ticker.EngFormatter())\n",
    "plt.show()"
   ]
  },
  {
   "cell_type": "markdown",
   "id": "228a24c1",
   "metadata": {},
   "source": [
    "# Accident cases by month"
   ]
  },
  {
   "cell_type": "code",
   "execution_count": null,
   "id": "87ea3a95",
   "metadata": {},
   "outputs": [],
   "source": [
    "month = pd.DataFrame(us_data)"
   ]
  },
  {
   "cell_type": "markdown",
   "id": "5ed79113",
   "metadata": {},
   "source": [
    "# Accident by Timezone"
   ]
  },
  {
   "cell_type": "code",
   "execution_count": 62,
   "id": "a7d91b59",
   "metadata": {
    "scrolled": false
   },
   "outputs": [
    {
     "data": {
      "image/png": "[encoded data removed]",
      "text/plain": [
       "<Figure size 720x432 with 1 Axes>"
      ]
     },
     "metadata": {
      "needs_background": "light"
     },
     "output_type": "display_data"
    }
   ],
   "source": [
    "timezone = pd.DataFrame(us_data.Timezone.value_counts()).reset_index().rename(columns={'index':'Timezone',\"Timezone\":\"Cases\"})\n",
    "plt.figure(figsize = (10,6))\n",
    "plt.title(\"\\n Accident cases in different Time Zone (2016 - 2021)\\n\", size = 20)\n",
    "plt.xlabel('\\n Timezone \\n', fontsize = 15)\n",
    "plt.ylabel('\\nAccident Cases\\n', fontsize = 15)\n",
    "plt.xticks(fontsize=13)\n",
    "plt.yticks(fontsize=12)\n",
    "a = sns.barplot(x=timezone.Timezone, y = timezone.Cases)\n",
    "a.yaxis.set_major_formatter(ticker.EngFormatter())\n",
    "plt.show()"
   ]
  },
  {
   "cell_type": "code",
   "execution_count": null,
   "id": "540257f2",
   "metadata": {
    "scrolled": false
   },
   "outputs": [],
   "source": []
  }
 ],
 "metadata": {
  "kernelspec": {
   "display_name": "Python 3",
   "language": "python",
   "name": "python3"
  },
  "language_info": {
   "codemirror_mode": {
    "name": "ipython",
    "version": 3
   },
   "file_extension": ".py",
   "mimetype": "text/x-python",
   "name": "python",
   "nbconvert_exporter": "python",
   "pygments_lexer": "ipython3",
   "version": "3.8.8"
  }
 },
 "nbformat": 4,
 "nbformat_minor": 5
}
